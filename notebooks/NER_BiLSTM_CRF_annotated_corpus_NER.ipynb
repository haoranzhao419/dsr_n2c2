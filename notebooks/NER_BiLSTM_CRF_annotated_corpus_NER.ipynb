{
  "nbformat": 4,
  "nbformat_minor": 0,
  "metadata": {
    "colab": {
      "name": "NER-BiLSTM-CRF-annotated-corpus-NER.ipynb",
      "provenance": [],
      "collapsed_sections": [],
      "include_colab_link": true
    },
    "kernelspec": {
      "name": "python3",
      "display_name": "Python 3"
    },
    "language_info": {
      "name": "python"
    },
    "accelerator": "GPU"
  },
  "cells": [
    {
      "cell_type": "markdown",
      "metadata": {
        "id": "view-in-github",
        "colab_type": "text"
      },
      "source": [
        "<a href=\"https://colab.research.google.com/github/haoranzhao419/dsr_n2c2/blob/main/notebooks/NER_BiLSTM_CRF_annotated_corpus_NER.ipynb\" target=\"_parent\"><img src=\"https://colab.research.google.com/assets/colab-badge.svg\" alt=\"Open In Colab\"/></a>"
      ]
    },
    {
      "cell_type": "markdown",
      "source": [
        "# Named Entity Recognition Using Bidirectional LSTM and Conditional Random Fields (CRF): \n",
        "## Links:\n",
        "1. https://blog.dominodatalab.com/named-entity-recognition-ner-challenges-and-model\n",
        "2. https://www.kaggle.com/abhinavwalia95/entity-annotated-corpus/\n",
        "3. The Groningen Meaning Bank (GMB): https://gmb.let.rug.nl/"
      ],
      "metadata": {
        "id": "OkEPliPvw2-V"
      }
    },
    {
      "cell_type": "markdown",
      "source": [
        "## Download the Data\n",
        "1. Download the data from: https://www.kaggle.com/abhinavwalia95/entity-annotated-corpus/\n",
        "2. Extract the data sets into your Google Drive under 'MyDrive/Colab Notebooks/n2c2/'"
      ],
      "metadata": {
        "id": "z8K7ALx5viGf"
      }
    },
    {
      "cell_type": "markdown",
      "source": [
        "## Importing Libraries"
      ],
      "metadata": {
        "id": "QY8ihRwr2DyI"
      }
    },
    {
      "cell_type": "code",
      "source": [
        "# Install extra-dependencies\n",
        "! pip -q install git+https://www.github.com/keras-team/keras-contrib.git "
      ],
      "metadata": {
        "colab": {
          "base_uri": "https://localhost:8080/"
        },
        "id": "vZ3uo2hMxZNN",
        "outputId": "3be40897-8df4-4ab9-f583-fa7e6748a9d9"
      },
      "execution_count": null,
      "outputs": [
        {
          "output_type": "stream",
          "name": "stdout",
          "text": [
            "  Building wheel for keras-contrib (setup.py) ... \u001b[?25l\u001b[?25hdone\n"
          ]
        }
      ]
    },
    {
      "cell_type": "code",
      "source": [
        "# Use tensorflow 1.x to work with keras-contrib CRF\n",
        "%tensorflow_version 1.x"
      ],
      "metadata": {
        "id": "A8cPUKvXzEkP",
        "colab": {
          "base_uri": "https://localhost:8080/"
        },
        "outputId": "9059b7b6-f41c-43cb-82ac-ace7e39d8900"
      },
      "execution_count": null,
      "outputs": [
        {
          "output_type": "stream",
          "name": "stdout",
          "text": [
            "TensorFlow 1.x selected.\n"
          ]
        }
      ]
    },
    {
      "cell_type": "code",
      "execution_count": null,
      "metadata": {
        "id": "7qqcFRNMt6I9",
        "colab": {
          "base_uri": "https://localhost:8080/"
        },
        "outputId": "ff569e39-8081-452a-87c6-85a85d3f1543"
      },
      "outputs": [
        {
          "output_type": "stream",
          "name": "stderr",
          "text": [
            "Using TensorFlow backend.\n"
          ]
        }
      ],
      "source": [
        "## Importing all required packages\n",
        "import pandas as pd\n",
        "import numpy as np\n",
        "import matplotlib.pyplot as plt\n",
        "import keras"
      ]
    },
    {
      "cell_type": "code",
      "source": [
        "import tensorflow as tf"
      ],
      "metadata": {
        "id": "2dRS_GfGzQaq"
      },
      "execution_count": null,
      "outputs": []
    },
    {
      "cell_type": "code",
      "source": [
        "# Hyperparams if GPU is available\n",
        "if tf.test.is_gpu_available():\n",
        "    BATCH_SIZE = 512  # Number of examples used in each iteration\n",
        "    EPOCHS = 5  # Number of passes through entire dataset\n",
        "    MAX_LEN = 75  # Max length of review (in words)\n",
        "    EMBEDDING = 40  # Dimension of word embedding vector\n",
        "# Hyperparams for CPU training\n",
        "else:\n",
        "    BATCH_SIZE = 32\n",
        "    EPOCHS = 5\n",
        "    MAX_LEN = 75\n",
        "    EMBEDDING = 20"
      ],
      "metadata": {
        "id": "E_fa8e8Nx3_L"
      },
      "execution_count": null,
      "outputs": []
    },
    {
      "cell_type": "markdown",
      "source": [
        "## Loading Data"
      ],
      "metadata": {
        "id": "VoMVidcG1976"
      }
    },
    {
      "cell_type": "code",
      "source": [
        "from google.colab import drive\n",
        "drive.mount('/content/drive')"
      ],
      "metadata": {
        "colab": {
          "base_uri": "https://localhost:8080/"
        },
        "id": "f94W2Mbp0Qol",
        "outputId": "2305ec00-857c-42a9-9cae-b14a29770a32"
      },
      "execution_count": null,
      "outputs": [
        {
          "output_type": "stream",
          "name": "stdout",
          "text": [
            "Drive already mounted at /content/drive; to attempt to forcibly remount, call drive.mount(\"/content/drive\", force_remount=True).\n"
          ]
        }
      ]
    },
    {
      "cell_type": "code",
      "source": [
        "## Loading data \n",
        "data_df = pd.read_csv(\"/content/drive/MyDrive/Colab Notebooks/n2c2/ner_dataset.csv\", encoding=\"iso-8859-1\", header=0)"
      ],
      "metadata": {
        "id": "DHWcX_d0w1WU"
      },
      "execution_count": null,
      "outputs": []
    },
    {
      "cell_type": "code",
      "source": [
        "data_df.head()"
      ],
      "metadata": {
        "colab": {
          "base_uri": "https://localhost:8080/",
          "height": 206
        },
        "id": "q-pSg_8vzcgS",
        "outputId": "e8d4d5b4-792d-4d2b-e672-580b918330ad"
      },
      "execution_count": null,
      "outputs": [
        {
          "output_type": "execute_result",
          "data": {
            "text/html": [
              "\n",
              "  <div id=\"df-be33164f-83c1-4ba4-83f6-2c2f68561e58\">\n",
              "    <div class=\"colab-df-container\">\n",
              "      <div>\n",
              "<style scoped>\n",
              "    .dataframe tbody tr th:only-of-type {\n",
              "        vertical-align: middle;\n",
              "    }\n",
              "\n",
              "    .dataframe tbody tr th {\n",
              "        vertical-align: top;\n",
              "    }\n",
              "\n",
              "    .dataframe thead th {\n",
              "        text-align: right;\n",
              "    }\n",
              "</style>\n",
              "<table border=\"1\" class=\"dataframe\">\n",
              "  <thead>\n",
              "    <tr style=\"text-align: right;\">\n",
              "      <th></th>\n",
              "      <th>Sentence #</th>\n",
              "      <th>Word</th>\n",
              "      <th>POS</th>\n",
              "      <th>Tag</th>\n",
              "    </tr>\n",
              "  </thead>\n",
              "  <tbody>\n",
              "    <tr>\n",
              "      <th>0</th>\n",
              "      <td>Sentence: 1</td>\n",
              "      <td>Thousands</td>\n",
              "      <td>NNS</td>\n",
              "      <td>O</td>\n",
              "    </tr>\n",
              "    <tr>\n",
              "      <th>1</th>\n",
              "      <td>NaN</td>\n",
              "      <td>of</td>\n",
              "      <td>IN</td>\n",
              "      <td>O</td>\n",
              "    </tr>\n",
              "    <tr>\n",
              "      <th>2</th>\n",
              "      <td>NaN</td>\n",
              "      <td>demonstrators</td>\n",
              "      <td>NNS</td>\n",
              "      <td>O</td>\n",
              "    </tr>\n",
              "    <tr>\n",
              "      <th>3</th>\n",
              "      <td>NaN</td>\n",
              "      <td>have</td>\n",
              "      <td>VBP</td>\n",
              "      <td>O</td>\n",
              "    </tr>\n",
              "    <tr>\n",
              "      <th>4</th>\n",
              "      <td>NaN</td>\n",
              "      <td>marched</td>\n",
              "      <td>VBN</td>\n",
              "      <td>O</td>\n",
              "    </tr>\n",
              "  </tbody>\n",
              "</table>\n",
              "</div>\n",
              "      <button class=\"colab-df-convert\" onclick=\"convertToInteractive('df-be33164f-83c1-4ba4-83f6-2c2f68561e58')\"\n",
              "              title=\"Convert this dataframe to an interactive table.\"\n",
              "              style=\"display:none;\">\n",
              "        \n",
              "  <svg xmlns=\"http://www.w3.org/2000/svg\" height=\"24px\"viewBox=\"0 0 24 24\"\n",
              "       width=\"24px\">\n",
              "    <path d=\"M0 0h24v24H0V0z\" fill=\"none\"/>\n",
              "    <path d=\"M18.56 5.44l.94 2.06.94-2.06 2.06-.94-2.06-.94-.94-2.06-.94 2.06-2.06.94zm-11 1L8.5 8.5l.94-2.06 2.06-.94-2.06-.94L8.5 2.5l-.94 2.06-2.06.94zm10 10l.94 2.06.94-2.06 2.06-.94-2.06-.94-.94-2.06-.94 2.06-2.06.94z\"/><path d=\"M17.41 7.96l-1.37-1.37c-.4-.4-.92-.59-1.43-.59-.52 0-1.04.2-1.43.59L10.3 9.45l-7.72 7.72c-.78.78-.78 2.05 0 2.83L4 21.41c.39.39.9.59 1.41.59.51 0 1.02-.2 1.41-.59l7.78-7.78 2.81-2.81c.8-.78.8-2.07 0-2.86zM5.41 20L4 18.59l7.72-7.72 1.47 1.35L5.41 20z\"/>\n",
              "  </svg>\n",
              "      </button>\n",
              "      \n",
              "  <style>\n",
              "    .colab-df-container {\n",
              "      display:flex;\n",
              "      flex-wrap:wrap;\n",
              "      gap: 12px;\n",
              "    }\n",
              "\n",
              "    .colab-df-convert {\n",
              "      background-color: #E8F0FE;\n",
              "      border: none;\n",
              "      border-radius: 50%;\n",
              "      cursor: pointer;\n",
              "      display: none;\n",
              "      fill: #1967D2;\n",
              "      height: 32px;\n",
              "      padding: 0 0 0 0;\n",
              "      width: 32px;\n",
              "    }\n",
              "\n",
              "    .colab-df-convert:hover {\n",
              "      background-color: #E2EBFA;\n",
              "      box-shadow: 0px 1px 2px rgba(60, 64, 67, 0.3), 0px 1px 3px 1px rgba(60, 64, 67, 0.15);\n",
              "      fill: #174EA6;\n",
              "    }\n",
              "\n",
              "    [theme=dark] .colab-df-convert {\n",
              "      background-color: #3B4455;\n",
              "      fill: #D2E3FC;\n",
              "    }\n",
              "\n",
              "    [theme=dark] .colab-df-convert:hover {\n",
              "      background-color: #434B5C;\n",
              "      box-shadow: 0px 1px 3px 1px rgba(0, 0, 0, 0.15);\n",
              "      filter: drop-shadow(0px 1px 2px rgba(0, 0, 0, 0.3));\n",
              "      fill: #FFFFFF;\n",
              "    }\n",
              "  </style>\n",
              "\n",
              "      <script>\n",
              "        const buttonEl =\n",
              "          document.querySelector('#df-be33164f-83c1-4ba4-83f6-2c2f68561e58 button.colab-df-convert');\n",
              "        buttonEl.style.display =\n",
              "          google.colab.kernel.accessAllowed ? 'block' : 'none';\n",
              "\n",
              "        async function convertToInteractive(key) {\n",
              "          const element = document.querySelector('#df-be33164f-83c1-4ba4-83f6-2c2f68561e58');\n",
              "          const dataTable =\n",
              "            await google.colab.kernel.invokeFunction('convertToInteractive',\n",
              "                                                     [key], {});\n",
              "          if (!dataTable) return;\n",
              "\n",
              "          const docLinkHtml = 'Like what you see? Visit the ' +\n",
              "            '<a target=\"_blank\" href=https://colab.research.google.com/notebooks/data_table.ipynb>data table notebook</a>'\n",
              "            + ' to learn more about interactive tables.';\n",
              "          element.innerHTML = '';\n",
              "          dataTable['output_type'] = 'display_data';\n",
              "          await google.colab.output.renderOutput(dataTable, element);\n",
              "          const docLink = document.createElement('div');\n",
              "          docLink.innerHTML = docLinkHtml;\n",
              "          element.appendChild(docLink);\n",
              "        }\n",
              "      </script>\n",
              "    </div>\n",
              "  </div>\n",
              "  "
            ],
            "text/plain": [
              "    Sentence #           Word  POS Tag\n",
              "0  Sentence: 1      Thousands  NNS   O\n",
              "1          NaN             of   IN   O\n",
              "2          NaN  demonstrators  NNS   O\n",
              "3          NaN           have  VBP   O\n",
              "4          NaN        marched  VBN   O"
            ]
          },
          "metadata": {},
          "execution_count": 8
        }
      ]
    },
    {
      "cell_type": "code",
      "source": [
        "data_df.shape"
      ],
      "metadata": {
        "colab": {
          "base_uri": "https://localhost:8080/"
        },
        "id": "Iwb5-IdV0o2m",
        "outputId": "7f6beafc-bd73-4226-c270-2debb0ddbd76"
      },
      "execution_count": null,
      "outputs": [
        {
          "output_type": "execute_result",
          "data": {
            "text/plain": [
              "(1048575, 4)"
            ]
          },
          "metadata": {},
          "execution_count": 9
        }
      ]
    },
    {
      "cell_type": "markdown",
      "source": [
        "### Extracting and filling up sentence id #"
      ],
      "metadata": {
        "id": "tvOUmaSo0z7g"
      }
    },
    {
      "cell_type": "code",
      "source": [
        "data_df = data_df.fillna(method=\"ffill\")\n",
        "data_df[\"Sentence #\"] = data_df[\"Sentence #\"].apply(lambda s: s[9:])\n",
        "data_df[\"Sentence #\"] = data_df[\"Sentence #\"].astype(\"int32\")\n",
        "data_df.head()"
      ],
      "metadata": {
        "colab": {
          "base_uri": "https://localhost:8080/",
          "height": 206
        },
        "id": "OOPO3f2K028D",
        "outputId": "31f5693e-9edc-449a-c185-8b022228dee1"
      },
      "execution_count": null,
      "outputs": [
        {
          "output_type": "execute_result",
          "data": {
            "text/html": [
              "\n",
              "  <div id=\"df-1d218c41-f67c-4abb-9453-e471991dfdc1\">\n",
              "    <div class=\"colab-df-container\">\n",
              "      <div>\n",
              "<style scoped>\n",
              "    .dataframe tbody tr th:only-of-type {\n",
              "        vertical-align: middle;\n",
              "    }\n",
              "\n",
              "    .dataframe tbody tr th {\n",
              "        vertical-align: top;\n",
              "    }\n",
              "\n",
              "    .dataframe thead th {\n",
              "        text-align: right;\n",
              "    }\n",
              "</style>\n",
              "<table border=\"1\" class=\"dataframe\">\n",
              "  <thead>\n",
              "    <tr style=\"text-align: right;\">\n",
              "      <th></th>\n",
              "      <th>Sentence #</th>\n",
              "      <th>Word</th>\n",
              "      <th>POS</th>\n",
              "      <th>Tag</th>\n",
              "    </tr>\n",
              "  </thead>\n",
              "  <tbody>\n",
              "    <tr>\n",
              "      <th>0</th>\n",
              "      <td>1</td>\n",
              "      <td>Thousands</td>\n",
              "      <td>NNS</td>\n",
              "      <td>O</td>\n",
              "    </tr>\n",
              "    <tr>\n",
              "      <th>1</th>\n",
              "      <td>1</td>\n",
              "      <td>of</td>\n",
              "      <td>IN</td>\n",
              "      <td>O</td>\n",
              "    </tr>\n",
              "    <tr>\n",
              "      <th>2</th>\n",
              "      <td>1</td>\n",
              "      <td>demonstrators</td>\n",
              "      <td>NNS</td>\n",
              "      <td>O</td>\n",
              "    </tr>\n",
              "    <tr>\n",
              "      <th>3</th>\n",
              "      <td>1</td>\n",
              "      <td>have</td>\n",
              "      <td>VBP</td>\n",
              "      <td>O</td>\n",
              "    </tr>\n",
              "    <tr>\n",
              "      <th>4</th>\n",
              "      <td>1</td>\n",
              "      <td>marched</td>\n",
              "      <td>VBN</td>\n",
              "      <td>O</td>\n",
              "    </tr>\n",
              "  </tbody>\n",
              "</table>\n",
              "</div>\n",
              "      <button class=\"colab-df-convert\" onclick=\"convertToInteractive('df-1d218c41-f67c-4abb-9453-e471991dfdc1')\"\n",
              "              title=\"Convert this dataframe to an interactive table.\"\n",
              "              style=\"display:none;\">\n",
              "        \n",
              "  <svg xmlns=\"http://www.w3.org/2000/svg\" height=\"24px\"viewBox=\"0 0 24 24\"\n",
              "       width=\"24px\">\n",
              "    <path d=\"M0 0h24v24H0V0z\" fill=\"none\"/>\n",
              "    <path d=\"M18.56 5.44l.94 2.06.94-2.06 2.06-.94-2.06-.94-.94-2.06-.94 2.06-2.06.94zm-11 1L8.5 8.5l.94-2.06 2.06-.94-2.06-.94L8.5 2.5l-.94 2.06-2.06.94zm10 10l.94 2.06.94-2.06 2.06-.94-2.06-.94-.94-2.06-.94 2.06-2.06.94z\"/><path d=\"M17.41 7.96l-1.37-1.37c-.4-.4-.92-.59-1.43-.59-.52 0-1.04.2-1.43.59L10.3 9.45l-7.72 7.72c-.78.78-.78 2.05 0 2.83L4 21.41c.39.39.9.59 1.41.59.51 0 1.02-.2 1.41-.59l7.78-7.78 2.81-2.81c.8-.78.8-2.07 0-2.86zM5.41 20L4 18.59l7.72-7.72 1.47 1.35L5.41 20z\"/>\n",
              "  </svg>\n",
              "      </button>\n",
              "      \n",
              "  <style>\n",
              "    .colab-df-container {\n",
              "      display:flex;\n",
              "      flex-wrap:wrap;\n",
              "      gap: 12px;\n",
              "    }\n",
              "\n",
              "    .colab-df-convert {\n",
              "      background-color: #E8F0FE;\n",
              "      border: none;\n",
              "      border-radius: 50%;\n",
              "      cursor: pointer;\n",
              "      display: none;\n",
              "      fill: #1967D2;\n",
              "      height: 32px;\n",
              "      padding: 0 0 0 0;\n",
              "      width: 32px;\n",
              "    }\n",
              "\n",
              "    .colab-df-convert:hover {\n",
              "      background-color: #E2EBFA;\n",
              "      box-shadow: 0px 1px 2px rgba(60, 64, 67, 0.3), 0px 1px 3px 1px rgba(60, 64, 67, 0.15);\n",
              "      fill: #174EA6;\n",
              "    }\n",
              "\n",
              "    [theme=dark] .colab-df-convert {\n",
              "      background-color: #3B4455;\n",
              "      fill: #D2E3FC;\n",
              "    }\n",
              "\n",
              "    [theme=dark] .colab-df-convert:hover {\n",
              "      background-color: #434B5C;\n",
              "      box-shadow: 0px 1px 3px 1px rgba(0, 0, 0, 0.15);\n",
              "      filter: drop-shadow(0px 1px 2px rgba(0, 0, 0, 0.3));\n",
              "      fill: #FFFFFF;\n",
              "    }\n",
              "  </style>\n",
              "\n",
              "      <script>\n",
              "        const buttonEl =\n",
              "          document.querySelector('#df-1d218c41-f67c-4abb-9453-e471991dfdc1 button.colab-df-convert');\n",
              "        buttonEl.style.display =\n",
              "          google.colab.kernel.accessAllowed ? 'block' : 'none';\n",
              "\n",
              "        async function convertToInteractive(key) {\n",
              "          const element = document.querySelector('#df-1d218c41-f67c-4abb-9453-e471991dfdc1');\n",
              "          const dataTable =\n",
              "            await google.colab.kernel.invokeFunction('convertToInteractive',\n",
              "                                                     [key], {});\n",
              "          if (!dataTable) return;\n",
              "\n",
              "          const docLinkHtml = 'Like what you see? Visit the ' +\n",
              "            '<a target=\"_blank\" href=https://colab.research.google.com/notebooks/data_table.ipynb>data table notebook</a>'\n",
              "            + ' to learn more about interactive tables.';\n",
              "          element.innerHTML = '';\n",
              "          dataTable['output_type'] = 'display_data';\n",
              "          await google.colab.output.renderOutput(dataTable, element);\n",
              "          const docLink = document.createElement('div');\n",
              "          docLink.innerHTML = docLinkHtml;\n",
              "          element.appendChild(docLink);\n",
              "        }\n",
              "      </script>\n",
              "    </div>\n",
              "  </div>\n",
              "  "
            ],
            "text/plain": [
              "   Sentence #           Word  POS Tag\n",
              "0           1      Thousands  NNS   O\n",
              "1           1             of   IN   O\n",
              "2           1  demonstrators  NNS   O\n",
              "3           1           have  VBP   O\n",
              "4           1        marched  VBN   O"
            ]
          },
          "metadata": {},
          "execution_count": 10
        }
      ]
    },
    {
      "cell_type": "markdown",
      "source": [
        "## Exploring the Data"
      ],
      "metadata": {
        "id": "tb_C5gG_16OQ"
      }
    },
    {
      "cell_type": "code",
      "source": [
        "print(\"Total number of sentences in the dataset: {:,}\".format(data_df[\"Sentence #\"].nunique()))\n",
        "print(\"Total words in the dataset: {:,}\".format(data_df.shape[0]))"
      ],
      "metadata": {
        "colab": {
          "base_uri": "https://localhost:8080/"
        },
        "id": "jCuO_wUXzsKr",
        "outputId": "c24cf693-4a11-44f5-9a55-3c3d407aaed2"
      },
      "execution_count": null,
      "outputs": [
        {
          "output_type": "stream",
          "name": "stdout",
          "text": [
            "Total number of sentences in the dataset: 47,959\n",
            "Total words in the dataset: 1,048,575\n"
          ]
        }
      ]
    },
    {
      "cell_type": "code",
      "source": [
        "data_df[\"POS\"].value_counts().plot(kind=\"bar\", figsize=(10,5));"
      ],
      "metadata": {
        "colab": {
          "base_uri": "https://localhost:8080/",
          "height": 337
        },
        "id": "j1CYRUh7z04B",
        "outputId": "5d4ea367-7bd4-4500-d558-75582803309e"
      },
      "execution_count": null,
      "outputs": [
        {
          "output_type": "display_data",
          "data": {
            "image/png": "[encoded data removed]",
            "text/plain": [
              "<Figure size 720x360 with 1 Axes>"
            ]
          },
          "metadata": {
            "needs_background": "light"
          }
        }
      ]
    },
    {
      "cell_type": "code",
      "source": [
        "data_df[data_df[\"Tag\"]!=\"O\"][\"Tag\"].value_counts().plot(kind=\"bar\", figsize=(10,5))"
      ],
      "metadata": {
        "colab": {
          "base_uri": "https://localhost:8080/",
          "height": 356
        },
        "id": "lrOLuiW6dTbP",
        "outputId": "230ecdcc-1b4f-4272-ee47-37b50982b82f"
      },
      "execution_count": null,
      "outputs": [
        {
          "output_type": "execute_result",
          "data": {
            "text/plain": [
              "<matplotlib.axes._subplots.AxesSubplot at 0x7f2124a92710>"
            ]
          },
          "metadata": {},
          "execution_count": 13
        },
        {
          "output_type": "display_data",
          "data": {
            "image/png": "[encoded data removed]",
            "text/plain": [
              "<Figure size 720x360 with 1 Axes>"
            ]
          },
          "metadata": {
            "needs_background": "light"
          }
        }
      ]
    },
    {
      "cell_type": "code",
      "source": [
        "word_counts = data_df.groupby(\"Sentence #\")[\"Word\"].agg([\"count\"])\n",
        "word_counts = word_counts.rename(columns={\"count\": \"Word count\"})\n",
        "word_counts.hist(bins=50, figsize=(8,6));"
      ],
      "metadata": {
        "colab": {
          "base_uri": "https://localhost:8080/",
          "height": 390
        },
        "id": "qPNtEJ1E0jSk",
        "outputId": "bdd24266-d6e9-4beb-badb-7c1283401122"
      },
      "execution_count": null,
      "outputs": [
        {
          "output_type": "display_data",
          "data": {
            "image/png": "[encoded data removed]",
            "text/plain": [
              "<Figure size 576x432 with 1 Axes>"
            ]
          },
          "metadata": {
            "needs_background": "light"
          }
        }
      ]
    },
    {
      "cell_type": "code",
      "source": [
        "MAX_SENTENCE = word_counts.max()[0]\n",
        "print(\"Longest sentence in the corpus contains {} words.\".format(MAX_SENTENCE))"
      ],
      "metadata": {
        "colab": {
          "base_uri": "https://localhost:8080/"
        },
        "id": "dgzRvrDk1_6y",
        "outputId": "a59d777c-cb83-466e-eade-76b7ef0370d0"
      },
      "execution_count": null,
      "outputs": [
        {
          "output_type": "stream",
          "name": "stdout",
          "text": [
            "Longest sentence in the corpus contains 104 words.\n"
          ]
        }
      ]
    },
    {
      "cell_type": "code",
      "source": [
        "longest_sentence_id = word_counts[word_counts[\"Word count\"]==MAX_SENTENCE].index[0]\n",
        "print(\"ID of the longest sentence is {}.\".format(longest_sentence_id))"
      ],
      "metadata": {
        "colab": {
          "base_uri": "https://localhost:8080/"
        },
        "id": "VHksGuRg2CVK",
        "outputId": "65d41546-090c-4fcd-d329-a690cc0e5bf5"
      },
      "execution_count": null,
      "outputs": [
        {
          "output_type": "stream",
          "name": "stdout",
          "text": [
            "ID of the longest sentence is 22480.\n"
          ]
        }
      ]
    },
    {
      "cell_type": "code",
      "source": [
        "longest_sentence = data_df[data_df[\"Sentence #\"]==longest_sentence_id][\"Word\"].str.cat(sep=' ')\n",
        "print(\"The longest sentence in the corpus is:\\n\")\n",
        "print(longest_sentence)"
      ],
      "metadata": {
        "colab": {
          "base_uri": "https://localhost:8080/"
        },
        "id": "NoPf6TBs2IUX",
        "outputId": "77b27a0d-4593-44bb-e1b7-d1e8d823365f"
      },
      "execution_count": null,
      "outputs": [
        {
          "output_type": "stream",
          "name": "stdout",
          "text": [
            "The longest sentence in the corpus is:\n",
            "\n",
            "Fisheries in 2006 - 7 landed 1,26,976 metric tons , of which 82 % ( 1,04,586 tons ) was krill ( Euphausia superba ) and 9.5 % ( 12,027 tons ) Patagonian toothfish ( Dissostichus eleginoides - also known as Chilean sea bass ) , compared to 1,27,910 tons in 2005 - 6 of which 83 % ( 1,06,591 tons ) was krill and 9.7 % ( 12,396 tons ) Patagonian toothfish ( estimated fishing from the area covered by the Convention of the Conservation of Antarctic Marine Living Resources ( CCAMLR ) , which extends slightly beyond the Southern Ocean area ) .\n"
          ]
        }
      ]
    },
    {
      "cell_type": "code",
      "source": [
        "all_words = list(set(data_df[\"Word\"].values))\n",
        "all_tags = list(set(data_df[\"Tag\"].values))\n",
        "\n",
        "print(\"Number of unique words: {}\".format(data_df[\"Word\"].nunique()))\n",
        "print(\"Number of unique tags : {}\".format(data_df[\"Tag\"].nunique()))"
      ],
      "metadata": {
        "colab": {
          "base_uri": "https://localhost:8080/"
        },
        "id": "XcuzJmtS2U_L",
        "outputId": "927dbeef-551f-4732-c501-c86b8dbec0b9"
      },
      "execution_count": null,
      "outputs": [
        {
          "output_type": "stream",
          "name": "stdout",
          "text": [
            "Number of unique words: 35178\n",
            "Number of unique tags : 17\n"
          ]
        }
      ]
    },
    {
      "cell_type": "markdown",
      "source": [
        "## Constructing Word to Index and Tag to Index Mappings"
      ],
      "metadata": {
        "id": "-ftQWD9e2L9Y"
      }
    },
    {
      "cell_type": "code",
      "source": [
        "word2index = {word: idx + 2 for idx, word in enumerate(all_words)}\n",
        "\n",
        "word2index[\"--UNKNOWN_WORD--\"]=0\n",
        "\n",
        "word2index[\"--PADDING--\"]=1\n",
        "\n",
        "index2word = {idx: word for word, idx in word2index.items()}"
      ],
      "metadata": {
        "id": "1lgZxELe2R9m"
      },
      "execution_count": null,
      "outputs": []
    },
    {
      "cell_type": "code",
      "source": [
        "import operator\n",
        "for k,v in sorted(word2index.items(), key=operator.itemgetter(1))[:10]:\n",
        "    print(k,v)"
      ],
      "metadata": {
        "colab": {
          "base_uri": "https://localhost:8080/"
        },
        "id": "6-rk9DkM2mWR",
        "outputId": "ca98befd-102c-4483-bd58-593cdf6e9f13"
      },
      "execution_count": null,
      "outputs": [
        {
          "output_type": "stream",
          "name": "stdout",
          "text": [
            "--UNKNOWN_WORD-- 0\n",
            "--PADDING-- 1\n",
            "boys 2\n",
            "275 3\n",
            "TVN 4\n",
            "Pharaohs 5\n",
            "fade 6\n",
            "jockey 7\n",
            "hack 8\n",
            "client 9\n"
          ]
        }
      ]
    },
    {
      "cell_type": "code",
      "source": [
        "test_word = \"Scotland\"\n",
        "\n",
        "test_word_idx = word2index[test_word]\n",
        "test_word_lookup = index2word[test_word_idx]\n",
        "\n",
        "print(\"The index of the word {} is {}.\".format(test_word, test_word_idx))\n",
        "print(\"The word with index {} is {}.\".format(test_word_idx, test_word_lookup))"
      ],
      "metadata": {
        "colab": {
          "base_uri": "https://localhost:8080/"
        },
        "id": "EpY1SMkQ2-fG",
        "outputId": "4c960841-789d-41e6-d8ca-593620970023"
      },
      "execution_count": null,
      "outputs": [
        {
          "output_type": "stream",
          "name": "stdout",
          "text": [
            "The index of the word Scotland is 22548.\n",
            "The word with index 22548 is Scotland.\n"
          ]
        }
      ]
    },
    {
      "cell_type": "code",
      "source": [
        "tag2index = {tag: idx + 1 for idx, tag in enumerate(all_tags)}\n",
        "tag2index[\"--PADDING--\"] = 0\n",
        "\n",
        "index2tag = {idx: word for word, idx in tag2index.items()}"
      ],
      "metadata": {
        "id": "2bZ2uCST2_6Z"
      },
      "execution_count": null,
      "outputs": []
    },
    {
      "cell_type": "markdown",
      "source": [
        "## Constructing Sentences as Lists of (word, tag) Tuples"
      ],
      "metadata": {
        "id": "bUM0qUjb10QZ"
      }
    },
    {
      "cell_type": "code",
      "source": [
        "def to_tuples(data):\n",
        "    iterator = zip(data[\"Word\"].values.tolist(),\n",
        "                   data[\"POS\"].values.tolist(),\n",
        "                   data[\"Tag\"].values.tolist())\n",
        "    return [(word, pos, tag) for word, pos, tag in iterator]\n",
        "\n",
        "sentences = data_df.groupby(\"Sentence #\").apply(to_tuples).tolist()"
      ],
      "metadata": {
        "id": "rOHQvK8W1rTj"
      },
      "execution_count": null,
      "outputs": []
    },
    {
      "cell_type": "code",
      "source": [
        "print(sentences[3])"
      ],
      "metadata": {
        "colab": {
          "base_uri": "https://localhost:8080/"
        },
        "id": "nOVeE6KZ2RcX",
        "outputId": "9d3c5178-0a55-4c0d-9947-87648ae2a115"
      },
      "execution_count": null,
      "outputs": [
        {
          "output_type": "stream",
          "name": "stdout",
          "text": [
            "[('Police', 'NNS', 'O'), ('put', 'VBD', 'O'), ('the', 'DT', 'O'), ('number', 'NN', 'O'), ('of', 'IN', 'O'), ('marchers', 'NNS', 'O'), ('at', 'IN', 'O'), ('10,000', 'CD', 'O'), ('while', 'IN', 'O'), ('organizers', 'NNS', 'O'), ('claimed', 'VBD', 'O'), ('it', 'PRP', 'O'), ('was', 'VBD', 'O'), ('1,00,000', 'CD', 'O'), ('.', '.', 'O')]\n"
          ]
        }
      ]
    },
    {
      "cell_type": "markdown",
      "source": [
        "## Pre-processing\n",
        "We extract the features (X) and labels (y) for the model. We discard the part of speech data, as it is not needed for this specific implementation."
      ],
      "metadata": {
        "id": "qunKEuPbZn_f"
      }
    },
    {
      "cell_type": "code",
      "source": [
        "X = [[word[0] for word in sentence] for sentence in sentences]\n",
        "y = [[word[2] for word in sentence] for sentence in sentences]\n",
        "print(\"X[0]:\", X[0])\n",
        "print(\"y[0]:\", y[0])"
      ],
      "metadata": {
        "id": "OihE7eh-apoJ",
        "colab": {
          "base_uri": "https://localhost:8080/"
        },
        "outputId": "93e8828a-6c6b-472d-bf31-2db94cbdcf1d"
      },
      "execution_count": null,
      "outputs": [
        {
          "output_type": "stream",
          "name": "stdout",
          "text": [
            "X[0]: ['Thousands', 'of', 'demonstrators', 'have', 'marched', 'through', 'London', 'to', 'protest', 'the', 'war', 'in', 'Iraq', 'and', 'demand', 'the', 'withdrawal', 'of', 'British', 'troops', 'from', 'that', 'country', '.']\n",
            "y[0]: ['O', 'O', 'O', 'O', 'O', 'O', 'B-geo', 'O', 'O', 'O', 'O', 'O', 'B-geo', 'O', 'O', 'O', 'O', 'O', 'B-gpe', 'O', 'O', 'O', 'O', 'O']\n"
          ]
        }
      ]
    },
    {
      "cell_type": "code",
      "source": [
        "# Replace each word with its index\n",
        "X = [[word2index[word] for word in sentence] for sentence in X]\n",
        "y = [[tag2index[tag] for tag in sentence] for sentence in y]\n",
        "print(\"X[0]:\", X[0])\n",
        "print(\"y[0]:\", y[0])"
      ],
      "metadata": {
        "colab": {
          "base_uri": "https://localhost:8080/"
        },
        "id": "NA38g-14cZDH",
        "outputId": "b03f4309-eff1-488f-fe7e-bdf82a9619b5"
      },
      "execution_count": null,
      "outputs": [
        {
          "output_type": "stream",
          "name": "stdout",
          "text": [
            "X[0]: [28609, 3301, 20189, 22004, 29079, 21394, 33774, 24614, 35082, 21082, 16146, 33196, 24871, 25030, 16218, 21082, 2211, 3301, 9882, 17563, 3768, 27541, 21698, 7813]\n",
            "y[0]: [4, 4, 4, 4, 4, 4, 10, 4, 4, 4, 4, 4, 10, 4, 4, 4, 4, 4, 16, 4, 4, 4, 4, 4]\n"
          ]
        }
      ]
    },
    {
      "cell_type": "code",
      "source": [
        "# Pad each sentence to the maximal sentence length in the corpus, \n",
        "# as the LSTM model expects a fixed length input. \n",
        "# This is where the extra \"--PADDING--\" key in the dictionary comes into play.\n",
        "\n",
        "X = [sentence + [word2index[\"--PADDING--\"]] * (MAX_SENTENCE - len(sentence)) for sentence in X]\n",
        "y = [sentence + [tag2index[\"--PADDING--\"]] * (MAX_SENTENCE - len(sentence)) for sentence in y]\n",
        "print(\"X[0]:\", X[0])\n",
        "print(\"y[0]:\", y[0])"
      ],
      "metadata": {
        "id": "dyohXJa_bW-W",
        "colab": {
          "base_uri": "https://localhost:8080/"
        },
        "outputId": "f0594c06-a4aa-4423-9190-676c03937a7c"
      },
      "execution_count": null,
      "outputs": [
        {
          "output_type": "stream",
          "name": "stdout",
          "text": [
            "X[0]: [28609, 3301, 20189, 22004, 29079, 21394, 33774, 24614, 35082, 21082, 16146, 33196, 24871, 25030, 16218, 21082, 2211, 3301, 9882, 17563, 3768, 27541, 21698, 7813, 1, 1, 1, 1, 1, 1, 1, 1, 1, 1, 1, 1, 1, 1, 1, 1, 1, 1, 1, 1, 1, 1, 1, 1, 1, 1, 1, 1, 1, 1, 1, 1, 1, 1, 1, 1, 1, 1, 1, 1, 1, 1, 1, 1, 1, 1, 1, 1, 1, 1, 1, 1, 1, 1, 1, 1, 1, 1, 1, 1, 1, 1, 1, 1, 1, 1, 1, 1, 1, 1, 1, 1, 1, 1, 1, 1, 1, 1, 1, 1]\n",
            "y[0]: [4, 4, 4, 4, 4, 4, 10, 4, 4, 4, 4, 4, 10, 4, 4, 4, 4, 4, 16, 4, 4, 4, 4, 4, 0, 0, 0, 0, 0, 0, 0, 0, 0, 0, 0, 0, 0, 0, 0, 0, 0, 0, 0, 0, 0, 0, 0, 0, 0, 0, 0, 0, 0, 0, 0, 0, 0, 0, 0, 0, 0, 0, 0, 0, 0, 0, 0, 0, 0, 0, 0, 0, 0, 0, 0, 0, 0, 0, 0, 0, 0, 0, 0, 0, 0, 0, 0, 0, 0, 0, 0, 0, 0, 0, 0, 0, 0, 0, 0, 0, 0, 0, 0, 0]\n"
          ]
        }
      ]
    },
    {
      "cell_type": "code",
      "source": [
        "# Encode the tags as one-hot vectors:\n",
        "\n",
        "TAG_COUNT = len(tag2index)\n",
        "y = [ np.eye(TAG_COUNT)[sentence] for sentence in y]\n",
        "\n",
        "print(\"X[0]:\", X[0])\n",
        "print(\"y[0]:\", y[0])"
      ],
      "metadata": {
        "colab": {
          "base_uri": "https://localhost:8080/"
        },
        "id": "iTvCLugnbxvm",
        "outputId": "44dc9437-e422-4a2a-9198-96a83a106530"
      },
      "execution_count": null,
      "outputs": [
        {
          "output_type": "stream",
          "name": "stdout",
          "text": [
            "X[0]: [28609, 3301, 20189, 22004, 29079, 21394, 33774, 24614, 35082, 21082, 16146, 33196, 24871, 25030, 16218, 21082, 2211, 3301, 9882, 17563, 3768, 27541, 21698, 7813, 1, 1, 1, 1, 1, 1, 1, 1, 1, 1, 1, 1, 1, 1, 1, 1, 1, 1, 1, 1, 1, 1, 1, 1, 1, 1, 1, 1, 1, 1, 1, 1, 1, 1, 1, 1, 1, 1, 1, 1, 1, 1, 1, 1, 1, 1, 1, 1, 1, 1, 1, 1, 1, 1, 1, 1, 1, 1, 1, 1, 1, 1, 1, 1, 1, 1, 1, 1, 1, 1, 1, 1, 1, 1, 1, 1, 1, 1, 1, 1]\n",
            "y[0]: [[0. 0. 0. ... 0. 0. 0.]\n",
            " [0. 0. 0. ... 0. 0. 0.]\n",
            " [0. 0. 0. ... 0. 0. 0.]\n",
            " ...\n",
            " [1. 0. 0. ... 0. 0. 0.]\n",
            " [1. 0. 0. ... 0. 0. 0.]\n",
            " [1. 0. 0. ... 0. 0. 0.]]\n"
          ]
        }
      ]
    },
    {
      "cell_type": "code",
      "source": [
        "# Split the resulting dataset into a training and test data\n",
        "from sklearn.model_selection import train_test_split\n",
        "X_train, X_test, y_train, y_test = train_test_split(X, y, test_size=0.1, random_state=1234)\n",
        "\n",
        "print(\"Number of sentences in the training dataset: {}\".format(len(X_train)))\n",
        "print(\"Number of sentences in the test dataset : {}\".format(len(X_test)))"
      ],
      "metadata": {
        "colab": {
          "base_uri": "https://localhost:8080/"
        },
        "id": "n0Yx3MpBbtNJ",
        "outputId": "a46bdcaf-21b9-42a8-fe84-14dc512cebde"
      },
      "execution_count": null,
      "outputs": [
        {
          "output_type": "stream",
          "name": "stdout",
          "text": [
            "Number of sentences in the training dataset: 43163\n",
            "Number of sentences in the test dataset : 4796\n"
          ]
        }
      ]
    },
    {
      "cell_type": "code",
      "source": [
        "X_train = np.array(X_train)\n",
        "X_test = np.array(X_test)\n",
        "y_train = np.array(y_train)\n",
        "y_test = np.array(y_test)"
      ],
      "metadata": {
        "id": "PXdCJaa5fcd7"
      },
      "execution_count": null,
      "outputs": []
    },
    {
      "cell_type": "code",
      "source": [
        "X_train.shape, X_test.shape, y_train.shape, y_test.shape"
      ],
      "metadata": {
        "colab": {
          "base_uri": "https://localhost:8080/"
        },
        "id": "xTSTH-Gbfkx3",
        "outputId": "4c0fe65d-168e-4719-d2f7-5b2098f156b7"
      },
      "execution_count": null,
      "outputs": [
        {
          "output_type": "execute_result",
          "data": {
            "text/plain": [
              "((43163, 104), (4796, 104), (43163, 104, 18), (4796, 104, 18))"
            ]
          },
          "metadata": {},
          "execution_count": 48
        }
      ]
    },
    {
      "cell_type": "markdown",
      "source": [
        "## Modeling\n",
        "1. Reference: We will use the Keras library to create the Bi-LSTM-CRF model proposed in the paper: Bidirectional LSTM-CRF Models for Sequence Tagging: https://arxiv.org/abs/1508.01991\n",
        "\n",
        "![bi_LSTM_CRF_NER](https://i.imgur.com/tSNQtfj.png)"
      ],
      "metadata": {
        "id": "wZLLtZKqOKge"
      }
    },
    {
      "cell_type": "code",
      "source": [
        "WORD_COUNT = len(index2word)\n",
        "DENSE_EMBEDDING = 50\n",
        "LSTM_UNITS = 50\n",
        "LSTM_DROPOUT = 0.1\n",
        "DENSE_UNITS = 100\n",
        "BATCH_SIZE = 256\n",
        "MAX_EPOCHS = 5"
      ],
      "metadata": {
        "id": "C_417Tcc58zT"
      },
      "execution_count": null,
      "outputs": []
    },
    {
      "cell_type": "code",
      "source": [
        "from keras.models import Model, Input\n",
        "from keras.layers import LSTM, Embedding, Dense, TimeDistributed, Dropout, Bidirectional\n",
        "from keras_contrib.layers import CRF\n",
        "from keras_contrib import losses, metrics\n",
        "from keras import layers, optimizers\n",
        "# Model definition\n",
        "input_layer = layers.Input(shape=(MAX_SENTENCE,))\n",
        "\n",
        "model = layers.Embedding(WORD_COUNT, DENSE_EMBEDDING, embeddings_initializer=\"uniform\", input_length=MAX_SENTENCE)(input_layer)\n",
        "\n",
        "model = layers.Bidirectional(layers.LSTM(LSTM_UNITS, recurrent_dropout=LSTM_DROPOUT, return_sequences=True))(model)\n",
        "\n",
        "model = layers.TimeDistributed(layers.Dense(DENSE_UNITS, activation=\"relu\"))(model)\n",
        "\n",
        "crf_layer = CRF(units=TAG_COUNT)\n",
        "output_layer = crf_layer(model)\n",
        "\n",
        "ner_model = Model(input_layer, output_layer)\n",
        "\n",
        "loss = losses.crf_loss\n",
        "acc_metric = metrics.crf_accuracy\n",
        "opt = optimizers.Adam(lr=0.001)\n",
        "\n",
        "ner_model.compile(optimizer=opt, loss=loss, metrics=[acc_metric])\n",
        "\n",
        "ner_model.summary()"
      ],
      "metadata": {
        "colab": {
          "base_uri": "https://localhost:8080/"
        },
        "id": "ZMshtJYYjrsG",
        "outputId": "06f8397b-43b9-4da8-d25f-163b6c2da3e9"
      },
      "execution_count": null,
      "outputs": [
        {
          "output_type": "stream",
          "name": "stdout",
          "text": [
            "WARNING:tensorflow:From /tensorflow-1.15.2/python3.7/tensorflow_core/python/ops/resource_variable_ops.py:1630: calling BaseResourceVariable.__init__ (from tensorflow.python.ops.resource_variable_ops) with constraint is deprecated and will be removed in a future version.\n",
            "Instructions for updating:\n",
            "If using Keras pass *_constraint arguments to layers.\n",
            "WARNING:tensorflow:From /tensorflow-1.15.2/python3.7/tensorflow_core/python/ops/math_ops.py:2509: where (from tensorflow.python.ops.array_ops) is deprecated and will be removed in a future version.\n",
            "Instructions for updating:\n",
            "Use tf.where in 2.0, which has the same broadcast rule as np.where\n",
            "Model: \"model_1\"\n",
            "_________________________________________________________________\n",
            "Layer (type)                 Output Shape              Param #   \n",
            "=================================================================\n",
            "input_1 (InputLayer)         (None, 104)               0         \n",
            "_________________________________________________________________\n",
            "embedding_1 (Embedding)      (None, 104, 50)           1759000   \n",
            "_________________________________________________________________\n",
            "bidirectional_1 (Bidirection (None, 104, 100)          40400     \n",
            "_________________________________________________________________\n",
            "time_distributed_1 (TimeDist (None, 104, 100)          10100     \n",
            "_________________________________________________________________\n",
            "crf_1 (CRF)                  (None, 104, 18)           2178      \n",
            "=================================================================\n",
            "Total params: 1,811,678\n",
            "Trainable params: 1,811,678\n",
            "Non-trainable params: 0\n",
            "_________________________________________________________________\n"
          ]
        }
      ]
    },
    {
      "cell_type": "code",
      "source": [
        "history = ner_model.fit(X_train, y_train, batch_size=BATCH_SIZE, epochs=MAX_EPOCHS, validation_split=0.1, verbose=2)"
      ],
      "metadata": {
        "colab": {
          "base_uri": "https://localhost:8080/"
        },
        "id": "sd3mExuYyCVP",
        "outputId": "c7ce9805-2776-42e7-e40d-531a5989fee9"
      },
      "execution_count": null,
      "outputs": [
        {
          "output_type": "stream",
          "name": "stdout",
          "text": [
            "WARNING:tensorflow:From /tensorflow-1.15.2/python3.7/keras/backend/tensorflow_backend.py:422: The name tf.global_variables is deprecated. Please use tf.compat.v1.global_variables instead.\n",
            "\n",
            "Train on 38846 samples, validate on 4317 samples\n",
            "Epoch 1/5\n",
            " - 40s - loss: 0.5085 - crf_accuracy: 0.8674 - val_loss: 0.1625 - val_crf_accuracy: 0.9667\n",
            "Epoch 2/5\n",
            " - 38s - loss: 0.1364 - crf_accuracy: 0.9681 - val_loss: 0.0860 - val_crf_accuracy: 0.9727\n",
            "Epoch 3/5\n",
            " - 38s - loss: 0.0692 - crf_accuracy: 0.9778 - val_loss: 0.0554 - val_crf_accuracy: 0.9841\n",
            "Epoch 4/5\n",
            " - 39s - loss: 0.0425 - crf_accuracy: 0.9881 - val_loss: 0.0359 - val_crf_accuracy: 0.9899\n",
            "Epoch 5/5\n",
            " - 38s - loss: 0.0283 - crf_accuracy: 0.9921 - val_loss: 0.0289 - val_crf_accuracy: 0.9915\n"
          ]
        }
      ]
    },
    {
      "cell_type": "code",
      "source": [
        "!pip install plot_keras_history"
      ],
      "metadata": {
        "colab": {
          "base_uri": "https://localhost:8080/"
        },
        "id": "siSli-tHVquk",
        "outputId": "ff3aa470-d3e6-4448-8bd3-4e8299407c06"
      },
      "execution_count": null,
      "outputs": [
        {
          "output_type": "stream",
          "name": "stdout",
          "text": [
            "Collecting plot_keras_history\n",
            "  Downloading plot_keras_history-1.1.30.tar.gz (8.6 kB)\n",
            "Requirement already satisfied: matplotlib in /usr/local/lib/python3.7/dist-packages (from plot_keras_history) (3.2.2)\n",
            "Requirement already satisfied: pandas in /usr/local/lib/python3.7/dist-packages (from plot_keras_history) (1.1.5)\n",
            "Requirement already satisfied: scipy in /usr/local/lib/python3.7/dist-packages (from plot_keras_history) (1.4.1)\n",
            "Collecting sanitize_ml_labels>=1.0.28\n",
            "  Downloading sanitize_ml_labels-1.0.29.tar.gz (7.4 kB)\n",
            "Collecting compress_json\n",
            "  Downloading compress_json-1.0.4.tar.gz (4.7 kB)\n",
            "Requirement already satisfied: pyparsing!=2.0.4,!=2.1.2,!=2.1.6,>=2.0.1 in /usr/local/lib/python3.7/dist-packages (from matplotlib->plot_keras_history) (3.0.6)\n",
            "Requirement already satisfied: cycler>=0.10 in /usr/local/lib/python3.7/dist-packages (from matplotlib->plot_keras_history) (0.11.0)\n",
            "Requirement already satisfied: kiwisolver>=1.0.1 in /usr/local/lib/python3.7/dist-packages (from matplotlib->plot_keras_history) (1.3.2)\n",
            "Requirement already satisfied: python-dateutil>=2.1 in /usr/local/lib/python3.7/dist-packages (from matplotlib->plot_keras_history) (2.8.2)\n",
            "Requirement already satisfied: numpy>=1.11 in /usr/local/lib/python3.7/dist-packages (from matplotlib->plot_keras_history) (1.19.5)\n",
            "Requirement already satisfied: six>=1.5 in /usr/local/lib/python3.7/dist-packages (from python-dateutil>=2.1->matplotlib->plot_keras_history) (1.15.0)\n",
            "Requirement already satisfied: pytz>=2017.2 in /usr/local/lib/python3.7/dist-packages (from pandas->plot_keras_history) (2018.9)\n",
            "Building wheels for collected packages: plot-keras-history, sanitize-ml-labels, compress-json\n",
            "  Building wheel for plot-keras-history (setup.py) ... \u001b[?25l\u001b[?25hdone\n",
            "  Created wheel for plot-keras-history: filename=plot_keras_history-1.1.30-py3-none-any.whl size=8794 sha256=e597a3c2a9fdda7586b92c143ead5511c6dfa30f004194ba39260dc15a60ed12\n",
            "  Stored in directory: /root/.cache/pip/wheels/b0/60/47/8c5aa37c06be5e97879ec467bc2e6a30b315d95f662c63a503\n",
            "  Building wheel for sanitize-ml-labels (setup.py) ... \u001b[?25l\u001b[?25hdone\n",
            "  Created wheel for sanitize-ml-labels: filename=sanitize_ml_labels-1.0.29-py3-none-any.whl size=7878 sha256=eb42ea0d12ea55f5848145063dd20133e7ad702d7ad5dad3b2069acdb2f5494b\n",
            "  Stored in directory: /root/.cache/pip/wheels/c2/f5/71/d1c459da10abec864a1979b449edbf37d4a82ab3e38a3625a8\n",
            "  Building wheel for compress-json (setup.py) ... \u001b[?25l\u001b[?25hdone\n",
            "  Created wheel for compress-json: filename=compress_json-1.0.4-py3-none-any.whl size=4588 sha256=1e054085938e1f074b982277fc381244fe1deaa4bb98fb4070881f3cf00b28a2\n",
            "  Stored in directory: /root/.cache/pip/wheels/1e/ef/1e/5d403c5632b0462471a8d26049d0c138134d0255ec60ce4c14\n",
            "Successfully built plot-keras-history sanitize-ml-labels compress-json\n",
            "Installing collected packages: compress-json, sanitize-ml-labels, plot-keras-history\n",
            "Successfully installed compress-json-1.0.4 plot-keras-history-1.1.30 sanitize-ml-labels-1.0.29\n"
          ]
        }
      ]
    },
    {
      "cell_type": "code",
      "source": [
        "from plot_keras_history import plot_history\n",
        "plot_history(history.history)"
      ],
      "metadata": {
        "colab": {
          "base_uri": "https://localhost:8080/",
          "height": 454
        },
        "id": "yzlLffDUVbVn",
        "outputId": "1c565dfe-b8bc-4660-c08e-4d9ae4e09eef"
      },
      "execution_count": null,
      "outputs": [
        {
          "output_type": "execute_result",
          "data": {
            "text/plain": [
              "(<Figure size 720x360 with 2 Axes>,\n",
              " array([<matplotlib.axes._subplots.AxesSubplot object at 0x7f208a7c5850>,\n",
              "        <matplotlib.axes._subplots.AxesSubplot object at 0x7f208a776910>],\n",
              "       dtype=object))"
            ]
          },
          "metadata": {},
          "execution_count": 37
        },
        {
          "output_type": "display_data",
          "data": {
            "image/png": "[encoded data removed]",
            "text/plain": [
              "<Figure size 720x360 with 2 Axes>"
            ]
          },
          "metadata": {
            "needs_background": "light"
          }
        }
      ]
    },
    {
      "cell_type": "code",
      "source": [
        "# Plot training & validation accuracy values\n",
        "plt.plot(history.history['crf_accuracy'])\n",
        "plt.plot(history.history['val_crf_accuracy'])\n",
        "plt.title('Model accuracy')\n",
        "plt.ylabel('Accuracy')\n",
        "plt.xlabel('Epoch')\n",
        "plt.legend(['Train', 'Test'])\n",
        "plt.show()"
      ],
      "metadata": {
        "colab": {
          "base_uri": "https://localhost:8080/",
          "height": 295
        },
        "id": "U2z21EQ_1TTw",
        "outputId": "0282eafa-24ce-4826-a7bb-8151813b0202"
      },
      "execution_count": null,
      "outputs": [
        {
          "output_type": "display_data",
          "data": {
            "image/png": "[encoded data removed]",
            "text/plain": [
              "<Figure size 432x288 with 1 Axes>"
            ]
          },
          "metadata": {
            "needs_background": "light"
          }
        }
      ]
    },
    {
      "cell_type": "code",
      "source": [
        "# Plot training & validation loss values\n",
        "plt.plot(history.history['loss'])\n",
        "plt.plot(history.history['val_loss'])\n",
        "plt.title('Model loss')\n",
        "plt.ylabel('Loss')\n",
        "plt.xlabel('Epoch')\n",
        "plt.legend(['Train', 'Test'], loc='upper left')\n",
        "plt.show()"
      ],
      "metadata": {
        "colab": {
          "base_uri": "https://localhost:8080/",
          "height": 295
        },
        "id": "1CGfmtkY1gLR",
        "outputId": "6c4c2b51-7c7a-4943-be10-692fb009010e"
      },
      "execution_count": null,
      "outputs": [
        {
          "output_type": "display_data",
          "data": {
            "image/png": "[encoded data removed]",
            "text/plain": [
              "<Figure size 432x288 with 1 Axes>"
            ]
          },
          "metadata": {
            "needs_background": "light"
          }
        }
      ]
    },
    {
      "cell_type": "markdown",
      "source": [
        "## Evaluating the Model"
      ],
      "metadata": {
        "id": "ljlqYecd2XpT"
      }
    },
    {
      "cell_type": "code",
      "source": [
        "y_pred = ner_model.predict(X_test)\n",
        "\n",
        "y_pred = np.argmax(y_pred, axis=2)\n",
        "\n",
        "y_test = np.argmax(y_test, axis=2)\n",
        "\n",
        "accuracy = (y_pred == y_test).mean()\n",
        "\n",
        "print(\"Accuracy: {:.4f}/\".format(accuracy))"
      ],
      "metadata": {
        "colab": {
          "base_uri": "https://localhost:8080/"
        },
        "id": "hl4RJuZQWIkK",
        "outputId": "cbe2f35f-870a-44de-cc4a-32fe3c646345"
      },
      "execution_count": null,
      "outputs": [
        {
          "output_type": "stream",
          "name": "stdout",
          "text": [
            "Accuracy: 0.9912/\n"
          ]
        }
      ]
    },
    {
      "cell_type": "code",
      "source": [
        "y_pred[:2]"
      ],
      "metadata": {
        "colab": {
          "base_uri": "https://localhost:8080/"
        },
        "id": "0dIMQvqLWa_h",
        "outputId": "95b9d14a-dfd4-4918-a62d-4786b2955fd8"
      },
      "execution_count": null,
      "outputs": [
        {
          "output_type": "execute_result",
          "data": {
            "text/plain": [
              "array([[ 4,  4,  4,  4,  4,  4,  4,  4,  4,  4,  4,  4, 10,  4,  4,  4,\n",
              "         4,  4,  4,  4,  4,  4,  4,  4,  4,  4,  4,  4, 10,  7,  4,  0,\n",
              "         0,  0,  0,  0,  0,  0,  0,  0,  0,  0,  0,  0,  0,  0,  0,  0,\n",
              "         0,  0,  0,  0,  0,  0,  0,  0,  0,  0,  0,  0,  0,  0,  0,  0,\n",
              "         0,  0,  0,  0,  0,  0,  0,  0,  0,  0,  0,  0,  0,  0,  0,  0,\n",
              "         0,  0,  0,  0,  0,  0,  0,  0,  0,  0,  0,  0,  0,  0,  0,  0,\n",
              "         0,  0,  0,  0,  0,  0,  0,  0],\n",
              "       [17, 17,  5,  4,  4,  4,  4,  4,  4, 11,  4,  4, 10,  4,  4,  4,\n",
              "         4,  4,  4,  4,  4,  4,  0,  0,  0,  0,  0,  0,  0,  0,  0,  0,\n",
              "         0,  0,  0,  0,  0,  0,  0,  0,  0,  0,  0,  0,  0,  0,  0,  0,\n",
              "         0,  0,  0,  0,  0,  0,  0,  0,  0,  0,  0,  0,  0,  0,  0,  0,\n",
              "         0,  0,  0,  0,  0,  0,  0,  0,  0,  0,  0,  0,  0,  0,  0,  0,\n",
              "         0,  0,  0,  0,  0,  0,  0,  0,  0,  0,  0,  0,  0,  0,  0,  0,\n",
              "         0,  0,  0,  0,  0,  0,  0,  0]])"
            ]
          },
          "metadata": {},
          "execution_count": 45
        }
      ]
    },
    {
      "cell_type": "code",
      "source": [
        "len(y_pred), len(y_test)"
      ],
      "metadata": {
        "colab": {
          "base_uri": "https://localhost:8080/"
        },
        "id": "FXKkXVGM6ZoY",
        "outputId": "32dc97bd-c662-4df6-e229-d5f15bf63bf3"
      },
      "execution_count": null,
      "outputs": [
        {
          "output_type": "execute_result",
          "data": {
            "text/plain": [
              "(4796, 4796)"
            ]
          },
          "metadata": {},
          "execution_count": 46
        }
      ]
    },
    {
      "cell_type": "code",
      "source": [
        "y_test_flatten = [ele for sent in y_test for ele in sent]\n",
        "y_pred_flatten = [ele for sent in y_pred for ele in sent]"
      ],
      "metadata": {
        "id": "nwUjZXtm7Xxb"
      },
      "execution_count": null,
      "outputs": []
    },
    {
      "cell_type": "code",
      "source": [
        "from sklearn.metrics import classification_report"
      ],
      "metadata": {
        "id": "NiljWozfWWfM"
      },
      "execution_count": null,
      "outputs": []
    },
    {
      "cell_type": "code",
      "source": [
        "report = classification_report(y_true=y_test_flatten, y_pred=y_pred_flatten, labels=None)\n",
        "print(report)"
      ],
      "metadata": {
        "colab": {
          "base_uri": "https://localhost:8080/"
        },
        "id": "ewlcUrzh6VQT",
        "outputId": "75726834-7681-47b6-b78a-55d7cd105a34"
      },
      "execution_count": null,
      "outputs": [
        {
          "output_type": "stream",
          "name": "stderr",
          "text": [
            "/usr/local/lib/python3.7/dist-packages/sklearn/metrics/_classification.py:1318: UndefinedMetricWarning: Precision and F-score are ill-defined and being set to 0.0 in labels with no predicted samples. Use `zero_division` parameter to control this behavior.\n",
            "  _warn_prf(average, modifier, msg_start, len(result))\n"
          ]
        },
        {
          "output_type": "stream",
          "name": "stdout",
          "text": [
            "              precision    recall  f1-score   support\n",
            "\n",
            "           0       1.00      1.00      1.00    393603\n",
            "           1       0.00      0.00      0.00        34\n",
            "           2       0.00      0.00      0.00        24\n",
            "           3       0.83      0.56      0.67       665\n",
            "           4       0.98      1.00      0.99     89035\n",
            "           5       0.84      0.78      0.81      1668\n",
            "           6       0.00      0.00      0.00        47\n",
            "           7       0.80      0.66      0.72       757\n",
            "           8       0.00      0.00      0.00        28\n",
            "           9       0.00      0.00      0.00        30\n",
            "          10       0.79      0.88      0.83      3777\n",
            "          11       0.88      0.83      0.86      2033\n",
            "          12       0.00      0.00      0.00        19\n",
            "          13       0.82      0.64      0.72      1802\n",
            "          14       0.74      0.62      0.67      2033\n",
            "          15       0.00      0.00      0.00         7\n",
            "          16       0.96      0.90      0.93      1597\n",
            "          17       0.82      0.72      0.76      1625\n",
            "\n",
            "    accuracy                           0.99    498784\n",
            "   macro avg       0.53      0.48      0.50    498784\n",
            "weighted avg       0.99      0.99      0.99    498784\n",
            "\n"
          ]
        },
        {
          "output_type": "stream",
          "name": "stderr",
          "text": [
            "/usr/local/lib/python3.7/dist-packages/sklearn/metrics/_classification.py:1318: UndefinedMetricWarning: Precision and F-score are ill-defined and being set to 0.0 in labels with no predicted samples. Use `zero_division` parameter to control this behavior.\n",
            "  _warn_prf(average, modifier, msg_start, len(result))\n",
            "/usr/local/lib/python3.7/dist-packages/sklearn/metrics/_classification.py:1318: UndefinedMetricWarning: Precision and F-score are ill-defined and being set to 0.0 in labels with no predicted samples. Use `zero_division` parameter to control this behavior.\n",
            "  _warn_prf(average, modifier, msg_start, len(result))\n"
          ]
        }
      ]
    },
    {
      "cell_type": "markdown",
      "source": [
        "It appears that the model is doing quite well, however this is slightly misleading. This is a highly imbalanced dataset because of the very high number of O-tags that are present in the training and test data. There is further imbalance between the samples including the various tag classes. A better inspection would be to construct confusion matrices for each tag and judge the model performance based on those. We can construct a simple Python function to assist with inspection of the confusion matrices for individual tags. We use two randomly selected tags to give us a sense of what the confusion matrices for individual tags would look like"
      ],
      "metadata": {
        "id": "ulTRIXvoXZ1v"
      }
    },
    {
      "cell_type": "code",
      "source": [
        "# Check individual tags\n",
        "\n",
        "from sklearn.metrics import multilabel_confusion_matrix\n",
        "\n",
        "def tag_conf_matrix(cm, tagid):\n",
        "    tag_name = index2tag[tagid]\n",
        "    print(\"Tag name: {}\".format(tag_name))\n",
        "    print(cm[tagid])\n",
        "    tn, fp, fn, tp = cm[tagid].ravel()\n",
        "    tag_acc = (tp + tn) / (tn + fp + fn + tp)\n",
        "    print(\"Tag accuracy: {:.3f} \\n\".format(tag_acc))\n",
        "\n",
        "matrix = multilabel_confusion_matrix(y_test.flatten(), y_pred.flatten())\n",
        "\n",
        "tag_conf_matrix(matrix, 8)\n",
        "tag_conf_matrix(matrix, 14)"
      ],
      "metadata": {
        "colab": {
          "base_uri": "https://localhost:8080/"
        },
        "id": "Oie_g4i722_J",
        "outputId": "50fcf955-6a8b-4a90-e598-51a345c179f0"
      },
      "execution_count": null,
      "outputs": [
        {
          "output_type": "stream",
          "name": "stdout",
          "text": [
            "Tag name: B-nat\n",
            "[[498756      0]\n",
            " [    28      0]]\n",
            "Tag accuracy: 1.000 \n",
            "\n",
            "Tag name: B-org\n",
            "[[496304    447]\n",
            " [   770   1263]]\n",
            "Tag accuracy: 0.998 \n",
            "\n"
          ]
        }
      ]
    },
    {
      "cell_type": "markdown",
      "source": [
        "## Labeling Individual Sentence\n",
        "Finally, we run a manual test by constructing a sample sentence and getting predictions for the detected entities. We tokenize, pad, and convert all words to indices. Then we call the model and print the predicted tags. The sentence we use for our test is \"President Obama became the first sitting American president to visit Hiroshima\"."
      ],
      "metadata": {
        "id": "VksDKtlVXnnR"
      }
    },
    {
      "cell_type": "code",
      "source": [
        "sentence = \"President Obama became the first sitting American president to visit Hiroshima\""
      ],
      "metadata": {
        "id": "OLdn8n4TOfpr"
      },
      "execution_count": null,
      "outputs": []
    },
    {
      "cell_type": "code",
      "source": [
        "import re, string\n",
        "re_tok = re.compile(f\"([{string.punctuation}“”¨«»®´·º½¾¿¡§£₤‘’])\")\n",
        "\n",
        "sentence = re_tok.sub(r\" \", sentence).split()\n",
        "\n",
        "sentence"
      ],
      "metadata": {
        "colab": {
          "base_uri": "https://localhost:8080/"
        },
        "id": "eUWLZiQEX1VR",
        "outputId": "d5756689-124b-4cec-9648-44b011ac6f30"
      },
      "execution_count": null,
      "outputs": [
        {
          "output_type": "execute_result",
          "data": {
            "text/plain": [
              "['President',\n",
              " 'Obama',\n",
              " 'became',\n",
              " 'the',\n",
              " 'first',\n",
              " 'sitting',\n",
              " 'American',\n",
              " 'president',\n",
              " 'to',\n",
              " 'visit',\n",
              " 'Hiroshima']"
            ]
          },
          "metadata": {},
          "execution_count": 68
        }
      ]
    },
    {
      "cell_type": "code",
      "source": [
        "padded_sentence = sentence + [word2index[\"--PADDING--\"]] * (MAX_SENTENCE - len(sentence))\n",
        "padded_sentence = [word2index.get(w, 0) for w in padded_sentence]\n",
        "\n",
        "pred = ner_model.predict(np.array([padded_sentence]))\n",
        "pred = np.argmax(pred, axis=-1)"
      ],
      "metadata": {
        "id": "L7pjIxbdYDnq"
      },
      "execution_count": null,
      "outputs": []
    },
    {
      "cell_type": "code",
      "source": [
        "pred"
      ],
      "metadata": {
        "colab": {
          "base_uri": "https://localhost:8080/"
        },
        "id": "YV8eXImeY-KJ",
        "outputId": "1f9ae934-5587-4e6c-a159-4688029a40ac"
      },
      "execution_count": null,
      "outputs": [
        {
          "output_type": "execute_result",
          "data": {
            "text/plain": [
              "array([[17,  5,  4,  4,  4,  4, 16,  4,  4,  4, 10,  4,  4,  4,  4,  4,\n",
              "         4,  4,  4,  4,  4,  4,  4,  4,  4,  4,  4,  4,  4,  4,  4,  4,\n",
              "         4,  4,  4,  4,  4,  4,  4,  4,  4,  4,  4,  4,  4,  4,  4,  4,\n",
              "         4,  4,  4,  4,  4,  4,  4,  4,  4,  4,  4,  4,  4,  4,  4,  4,\n",
              "         4,  4,  4,  4,  4,  4,  4,  4,  4,  4,  4,  4,  4,  4,  4,  4,\n",
              "         4,  4,  4,  4,  4,  4,  4,  4,  4,  4,  4,  4,  4,  3,  3,  3,\n",
              "         3,  3,  3,  3,  3,  3,  3,  0]])"
            ]
          },
          "metadata": {},
          "execution_count": 73
        }
      ]
    },
    {
      "cell_type": "code",
      "source": [
        "retval = \"\"\n",
        "for w, p in zip(sentence, pred[0]):\n",
        "    retval = retval + \"{:15}: {:5}\".format(w, index2tag[p]) + \"\\n\"\n",
        "print(retval)"
      ],
      "metadata": {
        "colab": {
          "base_uri": "https://localhost:8080/"
        },
        "id": "CZ6bBzTSZB8o",
        "outputId": "e43eba1c-ef77-446d-a10f-18c4fc7090c5"
      },
      "execution_count": null,
      "outputs": [
        {
          "output_type": "stream",
          "name": "stdout",
          "text": [
            "President      : B-per\n",
            "Obama          : I-per\n",
            "became         : O    \n",
            "the            : O    \n",
            "first          : O    \n",
            "sitting        : O    \n",
            "American       : B-gpe\n",
            "president      : O    \n",
            "to             : O    \n",
            "visit          : O    \n",
            "Hiroshima      : B-geo\n",
            "\n"
          ]
        }
      ]
    },
    {
      "cell_type": "code",
      "source": [
        ""
      ],
      "metadata": {
        "id": "bYS-_8rQZMO7"
      },
      "execution_count": null,
      "outputs": []
    }
  ]
}